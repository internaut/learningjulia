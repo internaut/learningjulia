{
 "cells": [
  {
   "cell_type": "markdown",
   "id": "c9faba6c",
   "metadata": {},
   "source": [
    "# Elementary matrices, Gaussian elimination, reduced echelon form and row equivalence\n",
    "\n"
   ]
  },
  {
   "cell_type": "code",
   "execution_count": 1,
   "id": "032631d0",
   "metadata": {},
   "outputs": [],
   "source": [
    "include(\"linalg/rowequiv.jl\")\n",
    "\n",
    "using .RowEquivalence"
   ]
  },
  {
   "cell_type": "markdown",
   "id": "019d85db",
   "metadata": {},
   "source": [
    "## Identity matrix"
   ]
  },
  {
   "cell_type": "markdown",
   "id": "9da90a6b",
   "metadata": {},
   "source": [
    "The identity matrix is a square matrix in which all elements on the diagonal are 1 and all other elements in the matrix are 0.\n",
    "\n",
    "Let's generate a $n \\times n$ identity matrix by using `identitymatrix(n)`:"
   ]
  },
  {
   "cell_type": "code",
   "execution_count": 2,
   "id": "6259d327",
   "metadata": {},
   "outputs": [
    {
     "data": {
      "text/plain": [
       "3×3 Matrix{Float64}:\n",
       " 1.0  0.0  0.0\n",
       " 0.0  1.0  0.0\n",
       " 0.0  0.0  1.0"
      ]
     },
     "execution_count": 2,
     "metadata": {},
     "output_type": "execute_result"
    }
   ],
   "source": [
    "identitymatrix(3)"
   ]
  },
  {
   "cell_type": "markdown",
   "id": "3dcc497a",
   "metadata": {},
   "source": [
    "By default, the generated matrix will be a matrix over real numbers, implemented as floating-point numbers type `Float`. We can pass an additional parameter for the type, i.e. the algebraic structure over which we define the matrix. Here, we define a $2 \\times 2$ identity matrix over rational numbers:"
   ]
  },
  {
   "cell_type": "code",
   "execution_count": 3,
   "id": "91228c27",
   "metadata": {},
   "outputs": [
    {
     "data": {
      "text/plain": [
       "2×2 Matrix{Rational{Int64}}:\n",
       " 1//1  0//1\n",
       " 0//1  1//1"
      ]
     },
     "execution_count": 3,
     "metadata": {},
     "output_type": "execute_result"
    }
   ],
   "source": [
    "identitymatrix(2, Rational)"
   ]
  },
  {
   "cell_type": "markdown",
   "id": "d01d597d",
   "metadata": {},
   "source": [
    "## Row / column operations and elementary matrices\n",
    "\n",
    "Row operations perform one of the following three transformations to matrix defined over $F$:\n",
    "\n",
    "- row switching: rows $i$ and $j$ are swapped\n",
    "- row multiplication: row $i$ is multiplied by a scalar $s \\in F$\n",
    "- row addition: row $j$ multiplied by a scalar $s \\in F$ and added to row $i$\n",
    "\n",
    "Similar operations can be performed for columns."
   ]
  },
  {
   "cell_type": "markdown",
   "id": "522ede69",
   "metadata": {},
   "source": [
    "Elementary matrices differ from the identity matrix by a single row operation. When multiplying an elementary matrix $E$ from left to a matrix $A$, this row operation is applied to $A$. When multiplying $E$ from right to a matrix $A$, this operation is applied as column operation to $A$."
   ]
  },
  {
   "cell_type": "markdown",
   "id": "d09284b9",
   "metadata": {},
   "source": [
    "Let's define a matrix `A` over integer numbers and apply row and column operations to it by multiplying elementary matrices with it:"
   ]
  },
  {
   "cell_type": "code",
   "execution_count": 4,
   "id": "18fa4634",
   "metadata": {},
   "outputs": [
    {
     "data": {
      "text/plain": [
       "3×4 Matrix{Int64}:\n",
       " 1   3   1   9\n",
       " 1   1  -1   1\n",
       " 3  11   5  35"
      ]
     },
     "execution_count": 4,
     "metadata": {},
     "output_type": "execute_result"
    }
   ],
   "source": [
    "A = [1  3  1  9;\n",
    "     1  1 -1  1;\n",
    "     3 11  5 35]"
   ]
  },
  {
   "cell_type": "markdown",
   "id": "dbc78c04",
   "metadata": {},
   "source": [
    "We can generate an elementary matrix for row switching using `swaprow_matrix(n, i, j, t)`, where `n` is the size (remember, the matrix is a square matrix), `i` and `j` are the row indices and `t` is the type.\n",
    "\n",
    "Let's swap row 1 with row 3. `A` is an integer matrix and has 3 rows, so we must generate a $3 \\times 3$ integer matrix:"
   ]
  },
  {
   "cell_type": "code",
   "execution_count": 5,
   "id": "6356bcf1",
   "metadata": {},
   "outputs": [
    {
     "data": {
      "text/plain": [
       "3×3 Matrix{Int64}:\n",
       " 0  0  1\n",
       " 0  1  0\n",
       " 1  0  0"
      ]
     },
     "execution_count": 5,
     "metadata": {},
     "output_type": "execute_result"
    }
   ],
   "source": [
    "E = swaprow_matrix(3, 1, 3, Int64)"
   ]
  },
  {
   "cell_type": "markdown",
   "id": "bd16340a",
   "metadata": {},
   "source": [
    "Left multiplication performs a row operation:"
   ]
  },
  {
   "cell_type": "code",
   "execution_count": 6,
   "id": "af1c9584",
   "metadata": {},
   "outputs": [
    {
     "data": {
      "text/plain": [
       "3×4 Matrix{Int64}:\n",
       " 3  11   5  35\n",
       " 1   1  -1   1\n",
       " 1   3   1   9"
      ]
     },
     "execution_count": 6,
     "metadata": {},
     "output_type": "execute_result"
    }
   ],
   "source": [
    "E * A"
   ]
  },
  {
   "cell_type": "markdown",
   "id": "4e2b473a",
   "metadata": {},
   "source": [
    "When we want to swap columns, we need to generate a $4 \\times 4$ matrix, since `A` has 4 columns:"
   ]
  },
  {
   "cell_type": "code",
   "execution_count": 7,
   "id": "36d2bbed",
   "metadata": {},
   "outputs": [
    {
     "data": {
      "text/plain": [
       "4×4 Matrix{Int64}:\n",
       " 1  0  0  0\n",
       " 0  0  0  1\n",
       " 0  0  1  0\n",
       " 0  1  0  0"
      ]
     },
     "execution_count": 7,
     "metadata": {},
     "output_type": "execute_result"
    }
   ],
   "source": [
    "E = swaprow_matrix(4, 2, 4, Int64)"
   ]
  },
  {
   "cell_type": "markdown",
   "id": "d399ad63",
   "metadata": {},
   "source": [
    "Right multiplication now swaps columns 2 and 4:"
   ]
  },
  {
   "cell_type": "code",
   "execution_count": 8,
   "id": "79cc38bb",
   "metadata": {},
   "outputs": [
    {
     "data": {
      "text/plain": [
       "3×4 Matrix{Int64}:\n",
       " 1   9   1   3\n",
       " 1   1  -1   1\n",
       " 3  35   5  11"
      ]
     },
     "execution_count": 8,
     "metadata": {},
     "output_type": "execute_result"
    }
   ],
   "source": [
    "A * E"
   ]
  },
  {
   "cell_type": "markdown",
   "id": "10e48571",
   "metadata": {},
   "source": [
    "Row/column multiplication and addition can be done similarily:"
   ]
  },
  {
   "cell_type": "code",
   "execution_count": 9,
   "id": "a9fcde0d",
   "metadata": {},
   "outputs": [
    {
     "data": {
      "text/plain": [
       "3×4 Matrix{Int64}:\n",
       "  1   3  1   9\n",
       " -1  -1  1  -1\n",
       "  3  11  5  35"
      ]
     },
     "execution_count": 9,
     "metadata": {},
     "output_type": "execute_result"
    }
   ],
   "source": [
    "# multiply row 2 by -1:\n",
    "multrow_matrix(3, 2, -1, Int64) * A"
   ]
  },
  {
   "cell_type": "code",
   "execution_count": 10,
   "id": "f0de681c",
   "metadata": {},
   "outputs": [
    {
     "data": {
      "text/plain": [
       "3×4 Matrix{Int64}:\n",
       " 1   3   1   9\n",
       " 0  -2  -2  -8\n",
       " 3  11   5  35"
      ]
     },
     "execution_count": 10,
     "metadata": {},
     "output_type": "execute_result"
    }
   ],
   "source": [
    "# multiply row 1 by -1 and add this to row 2 (i.e. subtract row 1 from row 2)\n",
    "rowadd_matrix(3, 2, 1, -1, Int64) * A"
   ]
  },
  {
   "cell_type": "markdown",
   "id": "c32f909a",
   "metadata": {},
   "source": [
    "## Gaussian elimination\n",
    "\n",
    "TODO: motivation, connection to elementary matrices"
   ]
  },
  {
   "cell_type": "code",
   "execution_count": 11,
   "id": "4779e1b1",
   "metadata": {},
   "outputs": [
    {
     "ename": "LoadError",
     "evalue": "InexactError: Int64(-0.5)",
     "output_type": "error",
     "traceback": [
      "InexactError: Int64(-0.5)",
      "",
      "Stacktrace:",
      "  [1] Int64",
      "    @ ./float.jl:723 [inlined]",
      "  [2] convert",
      "    @ ./number.jl:7 [inlined]",
      "  [3] setindex!",
      "    @ ./array.jl:841 [inlined]",
      "  [4] macro expansion",
      "    @ ./multidimensional.jl:903 [inlined]",
      "  [5] macro expansion",
      "    @ ./cartesian.jl:64 [inlined]",
      "  [6] _unsafe_setindex!(::IndexLinear, ::Matrix{Int64}, ::Vector{Float64}, ::Int64, ::Base.Slice{Base.OneTo{Int64}})",
      "    @ Base ./multidimensional.jl:898",
      "  [7] _setindex!",
      "    @ ./multidimensional.jl:887 [inlined]",
      "  [8] setindex!",
      "    @ ./abstractarray.jl:1267 [inlined]",
      "  [9] multrow_matrix(n::Int64, i::Int64, r::Float64, t::Type)",
      "    @ Main.RowEquivalence ~/Development/_lernen/learningjulia/linalg/rowequiv.jl:37",
      " [10] reducedechelon(mat::Matrix{Int64}; return_rank::Bool, return_operations::Bool)",
      "    @ Main.RowEquivalence ~/Development/_lernen/learningjulia/linalg/rowequiv.jl:105",
      " [11] reducedechelon_steps(mat::Matrix{Int64}; return_operations::Bool)",
      "    @ Main.RowEquivalence ~/Development/_lernen/learningjulia/linalg/rowequiv.jl:152",
      " [12] reducedechelon_steps(mat::Matrix{Int64})",
      "    @ Main.RowEquivalence ~/Development/_lernen/learningjulia/linalg/rowequiv.jl:152",
      " [13] top-level scope",
      "    @ In[11]:1",
      " [14] eval",
      "    @ ./boot.jl:360 [inlined]",
      " [15] include_string(mapexpr::typeof(REPL.softscope), mod::Module, code::String, filename::String)",
      "    @ Base ./loading.jl:1094"
     ]
    }
   ],
   "source": [
    "reducedechelon_steps(A)"
   ]
  },
  {
   "cell_type": "markdown",
   "id": "416df773",
   "metadata": {},
   "source": [
    "TODO: explain that every element in M must be invertible for Gaussian elimination, hence must for example convert to real or rational values."
   ]
  },
  {
   "cell_type": "code",
   "execution_count": 12,
   "id": "5bc389e2",
   "metadata": {},
   "outputs": [
    {
     "data": {
      "text/plain": [
       "3×4 Matrix{Float64}:\n",
       " 1.0   3.0   1.0   9.0\n",
       " 1.0   1.0  -1.0   1.0\n",
       " 3.0  11.0   5.0  35.0"
      ]
     },
     "execution_count": 12,
     "metadata": {},
     "output_type": "execute_result"
    }
   ],
   "source": [
    "mat = convert(Matrix{Float64}, A)"
   ]
  },
  {
   "cell_type": "code",
   "execution_count": 13,
   "id": "e9a7229d",
   "metadata": {},
   "outputs": [
    {
     "data": {
      "text/plain": [
       "5"
      ]
     },
     "execution_count": 13,
     "metadata": {},
     "output_type": "execute_result"
    }
   ],
   "source": [
    "steps, ops = reducedechelon_steps(mat, return_operations=true)\n",
    "length(ops)"
   ]
  },
  {
   "cell_type": "code",
   "execution_count": 14,
   "id": "26999c5a",
   "metadata": {},
   "outputs": [
    {
     "data": {
      "text/plain": [
       "prettyprint (generic function with 1 method)"
      ]
     },
     "execution_count": 14,
     "metadata": {},
     "output_type": "execute_result"
    }
   ],
   "source": [
    "function prettyprint(x)\n",
    "    show(stdout, \"text/plain\", x)\n",
    "    println()\n",
    "end"
   ]
  },
  {
   "cell_type": "code",
   "execution_count": 15,
   "id": "967c914d",
   "metadata": {},
   "outputs": [
    {
     "name": "stdout",
     "output_type": "stream",
     "text": [
      "-------\n",
      "step 1:\n",
      "-------\n",
      "apply\n",
      "3×3 Matrix{Float64}:\n",
      "  1.0  0.0  0.0\n",
      " -1.0  1.0  0.0\n",
      "  0.0  0.0  1.0\n",
      "to\n",
      "3×4 Matrix{Float64}:\n",
      " 1.0   3.0   1.0   9.0\n",
      " 1.0   1.0  -1.0   1.0\n",
      " 3.0  11.0   5.0  35.0\n",
      "=>\n",
      "3×4 Matrix{Float64}:\n",
      " 1.0   3.0   1.0   9.0\n",
      " 0.0  -2.0  -2.0  -8.0\n",
      " 3.0  11.0   5.0  35.0\n",
      "\n",
      "-------\n",
      "step 2:\n",
      "-------\n",
      "apply\n",
      "3×3 Matrix{Float64}:\n",
      "  1.0  0.0  0.0\n",
      "  0.0  1.0  0.0\n",
      " -3.0  0.0  1.0\n",
      "to\n",
      "3×4 Matrix{Float64}:\n",
      " 1.0   3.0   1.0   9.0\n",
      " 0.0  -2.0  -2.0  -8.0\n",
      " 3.0  11.0   5.0  35.0\n",
      "=>\n",
      "3×4 Matrix{Float64}:\n",
      " 1.0   3.0   1.0   9.0\n",
      " 0.0  -2.0  -2.0  -8.0\n",
      " 0.0   2.0   2.0   8.0\n",
      "\n",
      "-------\n",
      "step 3:\n",
      "-------\n",
      "apply\n",
      "3×3 Matrix{Float64}:\n",
      "  1.0   0.0   0.0\n",
      " -0.0  -0.5  -0.0\n",
      "  0.0   0.0   1.0\n",
      "to\n",
      "3×4 Matrix{Float64}:\n",
      " 1.0   3.0   1.0   9.0\n",
      " 0.0  -2.0  -2.0  -8.0\n",
      " 0.0   2.0   2.0   8.0\n",
      "=>\n",
      "3×4 Matrix{Float64}:\n",
      " 1.0  3.0  1.0  9.0\n",
      " 0.0  1.0  1.0  4.0\n",
      " 0.0  2.0  2.0  8.0\n",
      "\n",
      "-------\n",
      "step 4:\n",
      "-------\n",
      "apply\n",
      "3×3 Matrix{Float64}:\n",
      " 1.0  -3.0  0.0\n",
      " 0.0   1.0  0.0\n",
      " 0.0   0.0  1.0\n",
      "to\n",
      "3×4 Matrix{Float64}:\n",
      " 1.0  3.0  1.0  9.0\n",
      " 0.0  1.0  1.0  4.0\n",
      " 0.0  2.0  2.0  8.0\n",
      "=>\n",
      "3×4 Matrix{Float64}:\n",
      " 1.0  0.0  -2.0  -3.0\n",
      " 0.0  1.0   1.0   4.0\n",
      " 0.0  2.0   2.0   8.0\n",
      "\n",
      "-------\n",
      "step 5:\n",
      "-------\n",
      "apply\n",
      "3×3 Matrix{Float64}:\n",
      " 1.0   0.0  0.0\n",
      " 0.0   1.0  0.0\n",
      " 0.0  -2.0  1.0\n",
      "to\n",
      "3×4 Matrix{Float64}:\n",
      " 1.0  0.0  -2.0  -3.0\n",
      " 0.0  1.0   1.0   4.0\n",
      " 0.0  2.0   2.0   8.0\n",
      "=>\n",
      "3×4 Matrix{Float64}:\n",
      " 1.0  0.0  -2.0  -3.0\n",
      " 0.0  1.0   1.0   4.0\n",
      " 0.0  0.0   0.0   0.0\n",
      "\n"
     ]
    }
   ],
   "source": [
    "prevstep = mat\n",
    "for (i, (step, op)) in enumerate(zip(steps, ops))\n",
    "    println(\"-------\")\n",
    "    println(\"step \", i, \":\")\n",
    "    println(\"-------\")\n",
    "    println(\"apply\")\n",
    "    prettyprint(op)\n",
    "    println(\"to\")\n",
    "    prettyprint(prevstep)\n",
    "    println(\"=>\")\n",
    "    prettyprint(step)\n",
    "    println()\n",
    "    prevstep = step\n",
    "end;"
   ]
  },
  {
   "cell_type": "markdown",
   "id": "bcc0b45c",
   "metadata": {},
   "source": [
    "## Reduced echelon form\n",
    "\n",
    "TODO"
   ]
  },
  {
   "cell_type": "code",
   "execution_count": 16,
   "id": "bdfd0105",
   "metadata": {},
   "outputs": [
    {
     "data": {
      "text/plain": [
       "3×4 Matrix{Int64}:\n",
       " 1  0  -2  -3\n",
       " 0  1   1   4\n",
       " 0  0   0   0"
      ]
     },
     "execution_count": 16,
     "metadata": {},
     "output_type": "execute_result"
    }
   ],
   "source": [
    "convert(Matrix{Int}, steps[end])"
   ]
  },
  {
   "cell_type": "code",
   "execution_count": 17,
   "id": "2b7f31e2",
   "metadata": {},
   "outputs": [
    {
     "data": {
      "text/plain": [
       "3×4 Matrix{Float64}:\n",
       " 1.0  0.0  -2.0  -3.0\n",
       " 0.0  1.0   1.0   4.0\n",
       " 0.0  0.0   0.0   0.0"
      ]
     },
     "execution_count": 17,
     "metadata": {},
     "output_type": "execute_result"
    }
   ],
   "source": [
    "reducedechelon(mat)"
   ]
  },
  {
   "cell_type": "markdown",
   "id": "8dacaaed",
   "metadata": {},
   "source": [
    "## Row equivalence\n",
    "\n",
    "TODO"
   ]
  },
  {
   "cell_type": "markdown",
   "id": "0f12fc41",
   "metadata": {},
   "source": [
    "## Matrix rank\n",
    "\n",
    "TODO"
   ]
  },
  {
   "cell_type": "markdown",
   "id": "37c718c0",
   "metadata": {},
   "source": [
    "## Matrix inverse\n",
    "\n",
    "TODO\n",
    "\n",
    "note that there are more efficient algorithms"
   ]
  },
  {
   "cell_type": "code",
   "execution_count": null,
   "id": "21e6c25c",
   "metadata": {},
   "outputs": [],
   "source": []
  }
 ],
 "metadata": {
  "kernelspec": {
   "display_name": "Julia 1.6.0",
   "language": "julia",
   "name": "julia-1.6"
  },
  "language_info": {
   "file_extension": ".jl",
   "mimetype": "application/julia",
   "name": "julia",
   "version": "1.6.0"
  }
 },
 "nbformat": 4,
 "nbformat_minor": 5
}
